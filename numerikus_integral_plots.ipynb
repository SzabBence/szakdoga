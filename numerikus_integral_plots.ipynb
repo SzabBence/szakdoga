{
 "cells": [
  {
   "cell_type": "code",
   "execution_count": null,
   "id": "a21cd4b5-7ada-40e2-8eee-c7e8edb908bc",
   "metadata": {},
   "outputs": [],
   "source": [
    "#trapéz módszerrel integrált x**2 function az [1,2] -n \n",
    "import numpy as np\n",
    "import matplotlib.pyplot as plt\n",
    "import matplotlib.patches as patches\n",
    "plt.rcParams['figure.dpi'] = 100\n",
    "a = 1\n",
    "b = 2\n",
    "fgv_vonal = []\n",
    "for i in range(200):\n",
    "    fgv_vonal.append((i * 0.01) ** 2)\n",
    "\n",
    "plt.plot(np.arange(0,2,0.01),fgv_vonal,c = 'red',label = \"x^2\")\n",
    "plt.vlines(x = a, ymin = 0, ymax = a ** 2,\n",
    "           colors = 'b')\n",
    "    \n",
    "plt.vlines(x = b, ymin = 0, ymax = b ** 2,\n",
    "           colors = 'b')    \n",
    "alapvonal = np.arange(1,2.01,0.01)\n",
    "osszekoto_vonal = []\n",
    "for i in range(len(alapvonal)):\n",
    "    osszekoto_vonal.append(3 * alapvonal[i] - 2)\n",
    "#3x-2 az összekötő egyenes egyenlete \n",
    "plt.plot(alapvonal,osszekoto_vonal, c = \"b\")\n",
    "plt.fill_between(alapvonal,osszekoto_vonal, color = \"y\", label = 'trapéz területe')\n",
    "plt.legend()\n",
    "plt.show()"
   ]
  }
 ],
 "metadata": {
  "kernelspec": {
   "display_name": "Python 3",
   "language": "python",
   "name": "python3"
  },
  "language_info": {
   "codemirror_mode": {
    "name": "ipython",
    "version": 3
   },
   "file_extension": ".py",
   "mimetype": "text/x-python",
   "name": "python",
   "nbconvert_exporter": "python",
   "pygments_lexer": "ipython3",
   "version": "3.8.8"
  }
 },
 "nbformat": 4,
 "nbformat_minor": 5
}
